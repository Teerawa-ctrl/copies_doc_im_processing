{
  "cells": [
    {
      "cell_type": "markdown",
      "metadata": {
        "id": "view-in-github",
        "colab_type": "text"
      },
      "source": [
        "<a href=\"https://colab.research.google.com/github/Teerawa-ctrl/copies_doc_im_processing/blob/main/im_process_02.ipynb\" target=\"_parent\"><img src=\"https://colab.research.google.com/assets/colab-badge.svg\" alt=\"Open In Colab\"/></a>"
      ]
    },
    {
      "cell_type": "markdown",
      "metadata": {
        "id": "4w--gP1ycZY4"
      },
      "source": [
        "#SETUP"
      ]
    },
    {
      "cell_type": "code",
      "execution_count": 2,
      "metadata": {
        "id": "kXZPHMZjcSeb"
      },
      "outputs": [],
      "source": [
        "\n",
        "import os\n",
        "import cv2\n",
        "import numpy as np\n",
        "from google.colab.patches import cv2_imshow\n",
        "from PIL import Image\n",
        "from IPython.display import display"
      ]
    },
    {
      "cell_type": "code",
      "execution_count": null,
      "metadata": {
        "id": "eGIU-oYnc1Xg"
      },
      "outputs": [],
      "source": [
        "\n",
        "\n",
        "def process_images_in_folder(input_folder, output_folder):\n",
        "    # สร้างโฟลเดอร์สำหรับบันทึกผลลัพธ์ถ้ายังไม่มี\n",
        "    if not os.path.exists(output_folder):\n",
        "        os.makedirs(output_folder)\n",
        "\n",
        "    for filename in os.listdir(input_folder):\n",
        "        if filename.endswith(\".jpg\") or filename.endswith(\".png\"):\n",
        "            image_path = os.path.join(input_folder, filename)\n",
        "\n",
        "            # ตรวจสอบว่าไฟล์ถูกอ่านอย่างถูกต้อง\n",
        "            if not os.path.exists(image_path):\n",
        "                print(f\"File not found: {image_path}\")\n",
        "                continue\n",
        "\n",
        "            # อ่านรูปภาพ\n",
        "            image = cv2.imread(image_path, 0)\n",
        "\n",
        "            # ตรวจสอบว่าอ่านรูปภาพได้อย่างถูกต้อง\n",
        "            if image is None:\n",
        "                print(f\"Error reading image: {image_path}\")\n",
        "                continue\n",
        "\n",
        "            # สร้าง Gaussian Blurred image\n",
        "            blurred_image = cv2.GaussianBlur(image, (21, 21), 0)\n",
        "\n",
        "            # สร้าง Unsharp Mask\n",
        "            unsharp_image = cv2.addWeighted(image, 1.5, blurred_image, -0.5, 0)\n",
        "\n",
        "            # บันทึกรูปภาพที่ประมวลผลแล้ว\n",
        "            output_image_path = os.path.join(output_folder, f'processed_{filename}')\n",
        "            cv2.imwrite(output_image_path, unsharp_image)\n",
        "\n",
        "            # แสดงผลรูปภาพ\n",
        "            display_image(unsharp_image)\n",
        "\n",
        "            print(f\"Processed and saved: {output_image_path}\")\n",
        "\n",
        "def display_image(image):\n",
        "    img = Image.fromarray(image)\n",
        "    display(img)\n",
        "\n",
        "# กำหนดโฟลเดอร์สำหรับอินพุตและเอาต์พุต\n",
        "input_folder = '/content/app_receipt'\n",
        "output_folder = '/content/processed_image_app_receipt'\n",
        "\n",
        "# เรียกใช้ฟังก์ชันเพื่อดำเนินการกับรูปภาพในโฟลเดอร์\n",
        "process_images_in_folder(input_folder, output_folder)\n"
      ]
    },
    {
      "cell_type": "code",
      "execution_count": 6,
      "metadata": {
        "id": "u4nvRf6rc4ik",
        "colab": {
          "base_uri": "https://localhost:8080/",
          "height": 17
        },
        "outputId": "b12f1d4a-274f-43b3-e100-a0ebce02d799"
      },
      "outputs": [
        {
          "output_type": "display_data",
          "data": {
            "text/plain": [
              "<IPython.core.display.Javascript object>"
            ],
            "application/javascript": [
              "\n",
              "    async function download(id, filename, size) {\n",
              "      if (!google.colab.kernel.accessAllowed) {\n",
              "        return;\n",
              "      }\n",
              "      const div = document.createElement('div');\n",
              "      const label = document.createElement('label');\n",
              "      label.textContent = `Downloading \"${filename}\": `;\n",
              "      div.appendChild(label);\n",
              "      const progress = document.createElement('progress');\n",
              "      progress.max = size;\n",
              "      div.appendChild(progress);\n",
              "      document.body.appendChild(div);\n",
              "\n",
              "      const buffers = [];\n",
              "      let downloaded = 0;\n",
              "\n",
              "      const channel = await google.colab.kernel.comms.open(id);\n",
              "      // Send a message to notify the kernel that we're ready.\n",
              "      channel.send({})\n",
              "\n",
              "      for await (const message of channel.messages) {\n",
              "        // Send a message to notify the kernel that we're ready.\n",
              "        channel.send({})\n",
              "        if (message.buffers) {\n",
              "          for (const buffer of message.buffers) {\n",
              "            buffers.push(buffer);\n",
              "            downloaded += buffer.byteLength;\n",
              "            progress.value = downloaded;\n",
              "          }\n",
              "        }\n",
              "      }\n",
              "      const blob = new Blob(buffers, {type: 'application/binary'});\n",
              "      const a = document.createElement('a');\n",
              "      a.href = window.URL.createObjectURL(blob);\n",
              "      a.download = filename;\n",
              "      div.appendChild(a);\n",
              "      a.click();\n",
              "      div.remove();\n",
              "    }\n",
              "  "
            ]
          },
          "metadata": {}
        },
        {
          "output_type": "display_data",
          "data": {
            "text/plain": [
              "<IPython.core.display.Javascript object>"
            ],
            "application/javascript": [
              "download(\"download_bfd2ad01-d5fd-4181-a0ce-b144dcae4824\", \"processed_image_app_receipt.zip\", 731858)"
            ]
          },
          "metadata": {}
        }
      ],
      "source": [
        "# บีบอัดโฟลเดอร์เอาต์พุต\n",
        "import shutil # import the shutil module to use its functionalities\n",
        "from google.colab import files # import the files module from google.colab\n",
        "\n",
        "output_zip = output_folder + '.zip'\n",
        "shutil.make_archive(output_folder, 'zip', output_folder)\n",
        "\n",
        "# ดาวน์โหลดไฟล์ zip\n",
        "files.download(output_zip)"
      ]
    },
    {
      "cell_type": "code",
      "source": [],
      "metadata": {
        "id": "tUYN2vX-5DLC"
      },
      "execution_count": null,
      "outputs": []
    }
  ],
  "metadata": {
    "colab": {
      "provenance": [],
      "gpuType": "T4",
      "authorship_tag": "ABX9TyMdOiqIZsXzVhMDcIJkkxVa",
      "include_colab_link": true
    },
    "kernelspec": {
      "display_name": "Python 3",
      "name": "python3"
    },
    "language_info": {
      "name": "python"
    },
    "accelerator": "GPU"
  },
  "nbformat": 4,
  "nbformat_minor": 0
}